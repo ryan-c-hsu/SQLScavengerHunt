{
 "cells": [
  {
   "cell_type": "markdown",
   "metadata": {
    "_cell_guid": "aac1eb7a-6eb0-4239-bf0c-7edf5dd242a1",
    "_uuid": "56f92656487e77f60088d9afe9969a878ac1ead5"
   },
   "source": [
    "<table>\n",
    "    <tr>\n",
    "        <td>\n",
    "        <center>\n",
    "        <font size=\"+1\">If you haven't used BigQuery datasets on Kaggle previously, check out the <a href = \"https://www.kaggle.com/rtatman/sql-scavenger-hunt-handbook/\">Scavenger Hunt Handbook</a> kernel to get started.</font>\n",
    "        </center>\n",
    "        </td>\n",
    "    </tr>\n",
    "</table>"
   ]
  },
  {
   "cell_type": "markdown",
   "metadata": {
    "_cell_guid": "2fc58cbb-15ec-42e5-8f81-ca4cba5db07c",
    "_uuid": "8710f8a626efbd27c8e53b723e97813fdd388822"
   },
   "source": [
    "# SELECT, FROM & WHERE\n",
    "\n",
    "Today, we're going to learn how to use SELECT, FROM and WHERE to get data from a specific column based on the value of another column. For the purposes of this explanation, we'll be using this imaginary database, `pet_records` which has just one table in it, called `pets`, which looks like this:\n",
    "\n",
    "![](https://i.imgur.com/Ef4Puo3.png)\n",
    "\n",
    "### SELECT ... FROM\n",
    "___\n",
    "\n",
    "The most basic SQL query is to select a single column from a specific table. To do this, you need to tell SELECT which column to select and then specify what table that column is from using from. \n",
    "\n",
    "> **Do you need to capitalize SELECT and FROM?** No, SQL doesn't care about capitalization. However, it's customary to capitalize your SQL commands and it makes your queries a bit easier to read.\n",
    "\n",
    "So, if we wanted to select the \"Name\" column from the pets table of the pet_records database (if that database were accessible as a BigQuery dataset on Kaggle , which it is not, because I made it up), we would do this:\n",
    "\n",
    "    SELECT Name\n",
    "    FROM `bigquery-public-data.pet_records.pets`\n",
    "\n",
    "Which would return the highlighted data from this figure.\n",
    "\n",
    "![](https://i.imgur.com/8FdVyFP.png)\n",
    "\n",
    "### WHERE ...\n",
    "___\n",
    "\n",
    "When you're working with BigQuery datasets, you're almost always going to want to return only certain rows, usually based on the value of a different column. You can do this using the WHERE clause, which will only return the rows where the WHERE clause evaluates to true.\n",
    "\n",
    "Let's look at an example:\n",
    "\n",
    "    SELECT Name\n",
    "    FROM `bigquery-public-data.pet_records.pets`\n",
    "    WHERE Animal = \"Cat\"\n",
    "\n",
    "This query will only return the entries from the \"Name\" column that are in rows where the \"Animal\" column has the text \"Cat\" in it. Those are the cells highlighted in blue in this figure:\n",
    "\n",
    "![](https://i.imgur.com/Va52Qdl.png)\n"
   ]
  },
  {
   "cell_type": "markdown",
   "metadata": {
    "_cell_guid": "2e2563a2-5b9d-42a4-8fa3-da4d4150b24d",
    "_uuid": "0482e52934a735a43d562fe7beeabb85fe70e338"
   },
   "source": [
    "## Example: What are all the U.S. cities in the OpanAQ dataset?\n",
    "___\n",
    "\n",
    "Now that you've got the basics down, let's work through an example with a real dataset. Today we're going to be working with the OpenAQ dataset, which has information on air quality around the world. (The data in it should be current: it's updated weekly.)\n",
    "\n",
    "To help get you situated, I'm going to run through a complete query first. Then it will be your turn to get started running your queries!\n",
    "\n",
    "First, I'm going to set up everything we need to run queries and take a quick peek at what tables are in our database."
   ]
  },
  {
   "cell_type": "code",
   "execution_count": 1,
   "metadata": {
    "_cell_guid": "9a26e7db-812d-4fbb-b457-e09d323af127",
    "_uuid": "ab40ebc98c64c78df9a11d922bbc23573a43aefe"
   },
   "outputs": [
    {
     "data": {
      "text/plain": [
       "['global_air_quality']"
      ]
     },
     "execution_count": 1,
     "metadata": {},
     "output_type": "execute_result"
    }
   ],
   "source": [
    "# import package with helper functions \n",
    "import bq_helper\n",
    "\n",
    "# create a helper object for this dataset\n",
    "open_aq = bq_helper.BigQueryHelper(active_project=\"bigquery-public-data\",\n",
    "                                   dataset_name=\"openaq\")\n",
    "\n",
    "# print all the tables in this dataset (there's only one!)\n",
    "open_aq.list_tables()"
   ]
  },
  {
   "cell_type": "markdown",
   "metadata": {
    "_cell_guid": "cf3f3bd4-ef30-45d1-bdb3-5c8e7d3ec194",
    "_uuid": "0f5207bb8a05b44d1af2e002fde6260fb01baa1d"
   },
   "source": [
    "I'm going to take a peek at the first couple of rows to help me see what sort of data is in this dataset."
   ]
  },
  {
   "cell_type": "code",
   "execution_count": 2,
   "metadata": {
    "_cell_guid": "d85ed84b-58b3-48c1-8ea6-4c89ad254bd8",
    "_uuid": "dad17f046aac83f2c219452e032fd72227ea3e7a"
   },
   "outputs": [
    {
     "data": {
      "text/html": [
       "<div>\n",
       "<style>\n",
       "    .dataframe thead tr:only-child th {\n",
       "        text-align: right;\n",
       "    }\n",
       "\n",
       "    .dataframe thead th {\n",
       "        text-align: left;\n",
       "    }\n",
       "\n",
       "    .dataframe tbody tr th {\n",
       "        vertical-align: top;\n",
       "    }\n",
       "</style>\n",
       "<table border=\"1\" class=\"dataframe\">\n",
       "  <thead>\n",
       "    <tr style=\"text-align: right;\">\n",
       "      <th></th>\n",
       "      <th>location</th>\n",
       "      <th>city</th>\n",
       "      <th>country</th>\n",
       "      <th>pollutant</th>\n",
       "      <th>value</th>\n",
       "      <th>timestamp</th>\n",
       "      <th>unit</th>\n",
       "      <th>source_name</th>\n",
       "      <th>latitude</th>\n",
       "      <th>longitude</th>\n",
       "      <th>averaged_over_in_hours</th>\n",
       "    </tr>\n",
       "  </thead>\n",
       "  <tbody>\n",
       "    <tr>\n",
       "      <th>0</th>\n",
       "      <td>Mobile_Cle Elum</td>\n",
       "      <td>037</td>\n",
       "      <td>US</td>\n",
       "      <td>pm25</td>\n",
       "      <td>0.0</td>\n",
       "      <td>2017-09-26 20:00:00+00:00</td>\n",
       "      <td>µg/m³</td>\n",
       "      <td>AirNow</td>\n",
       "      <td>47.197630</td>\n",
       "      <td>-120.958230</td>\n",
       "      <td>1.0</td>\n",
       "    </tr>\n",
       "    <tr>\n",
       "      <th>1</th>\n",
       "      <td>Mobile_WhiteSalmon</td>\n",
       "      <td>039</td>\n",
       "      <td>US</td>\n",
       "      <td>pm25</td>\n",
       "      <td>0.0</td>\n",
       "      <td>2017-09-26 20:00:00+00:00</td>\n",
       "      <td>µg/m³</td>\n",
       "      <td>AirNow</td>\n",
       "      <td>45.732414</td>\n",
       "      <td>-121.492330</td>\n",
       "      <td>1.0</td>\n",
       "    </tr>\n",
       "    <tr>\n",
       "      <th>2</th>\n",
       "      <td>Mobile_Newport</td>\n",
       "      <td>051</td>\n",
       "      <td>US</td>\n",
       "      <td>pm25</td>\n",
       "      <td>0.0</td>\n",
       "      <td>2017-09-21 18:00:00+00:00</td>\n",
       "      <td>µg/m³</td>\n",
       "      <td>AirNow</td>\n",
       "      <td>48.186485</td>\n",
       "      <td>-117.049160</td>\n",
       "      <td>1.0</td>\n",
       "    </tr>\n",
       "    <tr>\n",
       "      <th>3</th>\n",
       "      <td>FR20047</td>\n",
       "      <td>Ain</td>\n",
       "      <td>FR</td>\n",
       "      <td>no2</td>\n",
       "      <td>45.4</td>\n",
       "      <td>2018-02-13 07:00:00+00:00</td>\n",
       "      <td>µg/m³</td>\n",
       "      <td>EEA France</td>\n",
       "      <td>45.823223</td>\n",
       "      <td>4.953958</td>\n",
       "      <td>1.0</td>\n",
       "    </tr>\n",
       "    <tr>\n",
       "      <th>4</th>\n",
       "      <td>FR20047</td>\n",
       "      <td>Ain</td>\n",
       "      <td>FR</td>\n",
       "      <td>pm10</td>\n",
       "      <td>18.7</td>\n",
       "      <td>2018-02-13 07:00:00+00:00</td>\n",
       "      <td>µg/m³</td>\n",
       "      <td>EEA France</td>\n",
       "      <td>45.823223</td>\n",
       "      <td>4.953958</td>\n",
       "      <td>1.0</td>\n",
       "    </tr>\n",
       "  </tbody>\n",
       "</table>\n",
       "</div>"
      ],
      "text/plain": [
       "             location city country pollutant  value                 timestamp  \\\n",
       "0     Mobile_Cle Elum  037      US      pm25    0.0 2017-09-26 20:00:00+00:00   \n",
       "1  Mobile_WhiteSalmon  039      US      pm25    0.0 2017-09-26 20:00:00+00:00   \n",
       "2      Mobile_Newport  051      US      pm25    0.0 2017-09-21 18:00:00+00:00   \n",
       "3             FR20047  Ain      FR       no2   45.4 2018-02-13 07:00:00+00:00   \n",
       "4             FR20047  Ain      FR      pm10   18.7 2018-02-13 07:00:00+00:00   \n",
       "\n",
       "    unit source_name   latitude   longitude  averaged_over_in_hours  \n",
       "0  µg/m³      AirNow  47.197630 -120.958230                     1.0  \n",
       "1  µg/m³      AirNow  45.732414 -121.492330                     1.0  \n",
       "2  µg/m³      AirNow  48.186485 -117.049160                     1.0  \n",
       "3  µg/m³  EEA France  45.823223    4.953958                     1.0  \n",
       "4  µg/m³  EEA France  45.823223    4.953958                     1.0  "
      ]
     },
     "execution_count": 2,
     "metadata": {},
     "output_type": "execute_result"
    }
   ],
   "source": [
    "# print the first couple rows of the \"global_air_quality\" dataset\n",
    "open_aq.head(\"global_air_quality\")"
   ]
  },
  {
   "cell_type": "markdown",
   "metadata": {
    "_cell_guid": "c4cf499d-a495-4717-a390-523107b3e1b2",
    "_uuid": "e70b02fc205ca45859a8520c211e11e3f46a3811"
   },
   "source": [
    "Great, everything looks good! Now that I'm set up, I'm going to put together a query. I want to select all the values from the \"city\" column for the rows there the \"country\" column is \"us\" (for \"United States\"). \n",
    "\n",
    "> **What's up with the triple quotation marks (\"\"\")?** These tell Python that everything inside them is a single string, even though we have line breaks in it. The line breaks aren't necessary, but they do make it much easier to read your query."
   ]
  },
  {
   "cell_type": "code",
   "execution_count": 3,
   "metadata": {
    "_cell_guid": "787efd2f-8f1e-4804-982c-4cd86888c56f",
    "_uuid": "42f5bfb36cba82ccf9250a9c71077ce4154b4a32",
    "collapsed": true
   },
   "outputs": [],
   "source": [
    "# query to select all the items from the \"city\" column where the\n",
    "# \"country\" column is \"us\"\n",
    "query = \"\"\"SELECT city\n",
    "            FROM `bigquery-public-data.openaq.global_air_quality`\n",
    "            WHERE country = 'US'\n",
    "        \"\"\""
   ]
  },
  {
   "cell_type": "markdown",
   "metadata": {
    "_cell_guid": "baf936ce-7334-4038-9c6a-d2a8d2d4d8e4",
    "_uuid": "b16b54b3e2d1b478f9179d6e73f0660c6aa973d4"
   },
   "source": [
    "> **Important:**  Note that the argument we pass to FROM is *not* in single or double quotation marks (' or \"). It is in backticks (\\`). If you use quotation marks instead of backticks, you'll get this error when you try to run the query: `Syntax error: Unexpected string literal` \n",
    "\n",
    "Now I can use this query to get information from our open_aq dataset. I'm using the `BigQueryHelper.query_to_pandas_safe()` method here because it won't run a query if it's larger than 1 gigabyte, which helps me avoid accidentally running a very large query. See the [Scavenger Hunt Handbook ](https://www.kaggle.com/rtatman/sql-scavenger-hunt-handbook/)for more details. "
   ]
  },
  {
   "cell_type": "code",
   "execution_count": 4,
   "metadata": {
    "_cell_guid": "b37cf4b8-1d54-456b-9e52-8e139b166a6e",
    "_uuid": "ecde0a65fad06ef5d22d896484d8cbe05f874e12",
    "collapsed": true
   },
   "outputs": [],
   "source": [
    "# the query_to_pandas_safe will only return a result if it's less\n",
    "# than one gigabyte (by default)\n",
    "us_cities = open_aq.query_to_pandas_safe(query)"
   ]
  },
  {
   "cell_type": "markdown",
   "metadata": {
    "_cell_guid": "9f642ae3-1b06-479a-9e31-a0f21423ecaf",
    "_uuid": "5f3ff35c822b8809cf07180d15ad651bcad4eb46"
   },
   "source": [
    "Now I've got a dataframe called us_cities, which I can use like I would any other dataframe:"
   ]
  },
  {
   "cell_type": "code",
   "execution_count": 5,
   "metadata": {
    "_cell_guid": "3bc9736e-9b18-44c2-9444-e0946cad8b79",
    "_uuid": "2d6b6cca96280cd1a4c4568c723fd35edff7fffa"
   },
   "outputs": [
    {
     "data": {
      "text/plain": [
       "Phoenix-Mesa-Scottsdale                     85\n",
       "Houston                                     79\n",
       "Los Angeles-Long Beach-Santa Ana            60\n",
       "New York-Northern New Jersey-Long Island    57\n",
       "Riverside-San Bernardino-Ontario            56\n",
       "Name: city, dtype: int64"
      ]
     },
     "execution_count": 5,
     "metadata": {},
     "output_type": "execute_result"
    }
   ],
   "source": [
    "# What five cities have the most measurements taken there?\n",
    "us_cities.city.value_counts().head()"
   ]
  },
  {
   "cell_type": "markdown",
   "metadata": {
    "_cell_guid": "fda0a223-5fd5-4524-a402-ecaef2905fa0",
    "_kg_hide-output": true,
    "_uuid": "654d2baeecb8757e10d02a63ec6cc63fe2df2339"
   },
   "source": [
    "# Scavenger hunt\n",
    "___\n",
    "\n",
    "Now it's your turn! Here's the questions I would like you to get the data to answer:\n",
    "\n",
    "* Which countries use a unit other than ppm to measure any type of pollution? (Hint: to get rows where the value *isn't* something, use \"!=\")\n",
    "* Which pollutants have a value of exactly 0?"
   ]
  },
  {
   "cell_type": "code",
   "execution_count": 6,
   "metadata": {
    "_cell_guid": "a4f6aab8-ae9b-4123-87e9-94aadf6a757c",
    "_uuid": "c346ce030dd69d682f91756fc9185ae7845066fb"
   },
   "outputs": [
    {
     "data": {
      "text/html": [
       "<div>\n",
       "<style>\n",
       "    .dataframe thead tr:only-child th {\n",
       "        text-align: right;\n",
       "    }\n",
       "\n",
       "    .dataframe thead th {\n",
       "        text-align: left;\n",
       "    }\n",
       "\n",
       "    .dataframe tbody tr th {\n",
       "        vertical-align: top;\n",
       "    }\n",
       "</style>\n",
       "<table border=\"1\" class=\"dataframe\">\n",
       "  <thead>\n",
       "    <tr style=\"text-align: right;\">\n",
       "      <th></th>\n",
       "      <th>country</th>\n",
       "      <th>unit</th>\n",
       "    </tr>\n",
       "  </thead>\n",
       "  <tbody>\n",
       "    <tr>\n",
       "      <th>0</th>\n",
       "      <td>MT</td>\n",
       "      <td>µg/m³</td>\n",
       "    </tr>\n",
       "    <tr>\n",
       "      <th>1</th>\n",
       "      <td>KW</td>\n",
       "      <td>µg/m³</td>\n",
       "    </tr>\n",
       "    <tr>\n",
       "      <th>2</th>\n",
       "      <td>FI</td>\n",
       "      <td>µg/m³</td>\n",
       "    </tr>\n",
       "    <tr>\n",
       "      <th>3</th>\n",
       "      <td>CL</td>\n",
       "      <td>µg/m³</td>\n",
       "    </tr>\n",
       "    <tr>\n",
       "      <th>4</th>\n",
       "      <td>UG</td>\n",
       "      <td>µg/m³</td>\n",
       "    </tr>\n",
       "  </tbody>\n",
       "</table>\n",
       "</div>"
      ],
      "text/plain": [
       "  country   unit\n",
       "0      MT  µg/m³\n",
       "1      KW  µg/m³\n",
       "2      FI  µg/m³\n",
       "3      CL  µg/m³\n",
       "4      UG  µg/m³"
      ]
     },
     "execution_count": 6,
     "metadata": {},
     "output_type": "execute_result"
    }
   ],
   "source": [
    "# Your code goes here :)\n",
    "query1 = \"\"\"SELECT DISTINCT country, unit\n",
    "           FROM `bigquery-public-data.openaq.global_air_quality`\n",
    "           WHERE unit != 'ppm'\"\"\"\n",
    "\n",
    "no_ppm_countries = open_aq.query_to_pandas_safe(query1)\n",
    "no_ppm_countries.head()"
   ]
  },
  {
   "cell_type": "code",
   "execution_count": 7,
   "metadata": {
    "_cell_guid": "62df7b7a-f25b-4cad-aa1f-aefe86cab24e",
    "_uuid": "84a420b7a52e63b66b64d2e64a464421581de0f4"
   },
   "outputs": [
    {
     "data": {
      "text/html": [
       "<div>\n",
       "<style>\n",
       "    .dataframe thead tr:only-child th {\n",
       "        text-align: right;\n",
       "    }\n",
       "\n",
       "    .dataframe thead th {\n",
       "        text-align: left;\n",
       "    }\n",
       "\n",
       "    .dataframe tbody tr th {\n",
       "        vertical-align: top;\n",
       "    }\n",
       "</style>\n",
       "<table border=\"1\" class=\"dataframe\">\n",
       "  <thead>\n",
       "    <tr style=\"text-align: right;\">\n",
       "      <th></th>\n",
       "      <th>pollutant</th>\n",
       "      <th>value</th>\n",
       "    </tr>\n",
       "  </thead>\n",
       "  <tbody>\n",
       "    <tr>\n",
       "      <th>0</th>\n",
       "      <td>pm10</td>\n",
       "      <td>0.0</td>\n",
       "    </tr>\n",
       "    <tr>\n",
       "      <th>1</th>\n",
       "      <td>no2</td>\n",
       "      <td>0.0</td>\n",
       "    </tr>\n",
       "    <tr>\n",
       "      <th>2</th>\n",
       "      <td>so2</td>\n",
       "      <td>0.0</td>\n",
       "    </tr>\n",
       "    <tr>\n",
       "      <th>3</th>\n",
       "      <td>pm25</td>\n",
       "      <td>0.0</td>\n",
       "    </tr>\n",
       "    <tr>\n",
       "      <th>4</th>\n",
       "      <td>co</td>\n",
       "      <td>0.0</td>\n",
       "    </tr>\n",
       "  </tbody>\n",
       "</table>\n",
       "</div>"
      ],
      "text/plain": [
       "  pollutant  value\n",
       "0      pm10    0.0\n",
       "1       no2    0.0\n",
       "2       so2    0.0\n",
       "3      pm25    0.0\n",
       "4        co    0.0"
      ]
     },
     "execution_count": 7,
     "metadata": {},
     "output_type": "execute_result"
    }
   ],
   "source": [
    "query2 = \"\"\"SELECT DISTINCT pollutant, value\n",
    "            FROM `bigquery-public-data.openaq.global_air_quality`\n",
    "            WHERE value = 0\"\"\"\n",
    "\n",
    "zero_value_pollutants = open_aq.query_to_pandas_safe(query2)\n",
    "zero_value_pollutants.head()"
   ]
  },
  {
   "cell_type": "markdown",
   "metadata": {
    "_cell_guid": "a2313b92-8f03-41e3-a28b-99a0f54397b2",
    "_uuid": "b0f920e6fc8e371f7b4ad10ff7015526552a19d5"
   },
   "source": [
    "Please feel free to ask any questions you have in this notebook or in the [Q&A forums](https://www.kaggle.com/questions-and-answers)! \n",
    "\n",
    "Also, if you want to share or get comments on your kernel, remember you need to make it public first! You can change the visibility of your kernel under the \"Settings\" tab, on the right half of your screen."
   ]
  }
 ],
 "metadata": {
  "kernelspec": {
   "display_name": "Python 3",
   "language": "python",
   "name": "python3"
  },
  "language_info": {
   "codemirror_mode": {
    "name": "ipython",
    "version": 3
   },
   "file_extension": ".py",
   "mimetype": "text/x-python",
   "name": "python",
   "nbconvert_exporter": "python",
   "pygments_lexer": "ipython3",
   "version": "3.6.3"
  }
 },
 "nbformat": 4,
 "nbformat_minor": 1
}
